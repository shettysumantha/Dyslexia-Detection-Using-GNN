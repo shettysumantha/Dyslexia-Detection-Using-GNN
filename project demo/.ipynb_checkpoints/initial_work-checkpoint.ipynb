{
 "cells": [
  {
   "cell_type": "code",
   "execution_count": 2,
   "id": "102ecd7b",
   "metadata": {},
   "outputs": [],
   "source": [
    "import os\n",
    "import pandas as pd"
   ]
  },
  {
   "cell_type": "code",
   "execution_count": 3,
   "id": "bb9ef54c",
   "metadata": {},
   "outputs": [],
   "source": [
    "data_folder_path ='data/recording_data'"
   ]
  },
  {
   "cell_type": "code",
   "execution_count": 4,
   "id": "b6e16834",
   "metadata": {},
   "outputs": [],
   "source": [
    "#an initialized empty list to hold data from all files\n",
    "all_data =[]"
   ]
  },
  {
   "cell_type": "code",
   "execution_count": 16,
   "id": "c2b2ec56",
   "metadata": {},
   "outputs": [],
   "source": [
    "#looping through each folder in the directory\n",
    "for folder_name in os.listdir(data_folder_path):\n",
    "    if not folder_name.startswith('.'):#this would ignore hidden/system folders\n",
    "        folder_path=os.path.join(data_folder_path,folder_name)\n",
    "        \n",
    "        #determining attributes from folder name\n",
    "        reading_disabled = folder_name[-1] in ['1','2']#Ends with 1 or 2\n",
    "        gender='male'if folder_name[-1]in ['1','3'] else 'female' #Ends with 1 or 3 for male or 2 or 4 for female\n",
    "         \n",
    "            \n",
    "          # Loop through each item in the directory\n",
    "for item in os.listdir(data_folder_path):\n",
    "    item_path = os.path.join(data_folder_path, item)\n",
    "    \n",
    "    # Check if the item is a directory\n",
    "    if os.path.isdir(item_path):\n",
    "        # Determine attributes from folder name\n",
    "        reading_disabled = item[-1] in ['1', '2']  # Ends with 1 or 2\n",
    "        gender = 'male' if item[-1] in ['1', '3'] else 'female'  # Ends with 1 or 3 for male, 2 or 4 for female\n",
    "        \n",
    "        # Loop through each file in the directory\n",
    "        for file_name in os.listdir(item_path):\n",
    "            file_path = os.path.join(item_path, file_name)\n",
    "            \n",
    "            # Read the data file (assuming a simple text format, adjust read function as necessary)\n",
    "            with open(file_path, 'r') as file:\n",
    "                data = file.read()  # This will be a string, you may need to parse it further depending on your data format\n",
    "            \n",
    "            # Append a tuple with the data and metadata to the all_data list\n",
    "            # You might want to parse 'data' into a more structured form depending on your needs\n",
    "            all_data.append((item, gender, reading_disabled, data))\n",
    "\n",
    "# Convert the list of tuples into a DataFrame\n",
    "df = pd.DataFrame(all_data, columns=['Folder Name', 'Gender', 'Reading Disabled', 'Data'])\n",
    "\n"
   ]
  },
  {
   "cell_type": "code",
   "execution_count": 17,
   "id": "18365dfc",
   "metadata": {},
   "outputs": [
    {
     "data": {
      "text/html": [
       "<div>\n",
       "<style scoped>\n",
       "    .dataframe tbody tr th:only-of-type {\n",
       "        vertical-align: middle;\n",
       "    }\n",
       "\n",
       "    .dataframe tbody tr th {\n",
       "        vertical-align: top;\n",
       "    }\n",
       "\n",
       "    .dataframe thead th {\n",
       "        text-align: right;\n",
       "    }\n",
       "</style>\n",
       "<table border=\"1\" class=\"dataframe\">\n",
       "  <thead>\n",
       "    <tr style=\"text-align: right;\">\n",
       "      <th></th>\n",
       "      <th>Folder Name</th>\n",
       "      <th>Gender</th>\n",
       "      <th>Reading Disabled</th>\n",
       "      <th>Data</th>\n",
       "    </tr>\n",
       "  </thead>\n",
       "  <tbody>\n",
       "    <tr>\n",
       "      <th>0</th>\n",
       "      <td>111GM3</td>\n",
       "      <td>male</td>\n",
       "      <td>False</td>\n",
       "      <td>T\\tLX\\tLY\\tRX\\tRY\\n0\\t0\\t0\\t0\\t0\\n20\\t0,65535\\...</td>\n",
       "    </tr>\n",
       "    <tr>\n",
       "      <th>1</th>\n",
       "      <td>111JA2</td>\n",
       "      <td>female</td>\n",
       "      <td>True</td>\n",
       "      <td>T\\tLX\\tLY\\tRX\\tRY\\n0\\t0\\t0\\t0\\t0\\n20\\t-1,00000...</td>\n",
       "    </tr>\n",
       "    <tr>\n",
       "      <th>2</th>\n",
       "      <td>111RP1</td>\n",
       "      <td>male</td>\n",
       "      <td>True</td>\n",
       "      <td>T\\tLX\\tLY\\tRX\\tRY\\n0\\t0\\t0\\t0\\t0\\n20\\t0\\t0\\t0\\...</td>\n",
       "    </tr>\n",
       "    <tr>\n",
       "      <th>3</th>\n",
       "      <td>112JU3</td>\n",
       "      <td>male</td>\n",
       "      <td>False</td>\n",
       "      <td>T\\tLX\\tLY\\tRX\\tRY\\n0\\t0\\t0\\t0\\t0\\n20\\t0\\t0\\t0,...</td>\n",
       "    </tr>\n",
       "    <tr>\n",
       "      <th>4</th>\n",
       "      <td>112KA1</td>\n",
       "      <td>male</td>\n",
       "      <td>True</td>\n",
       "      <td>T\\tLX\\tLY\\tRX\\tRY\\n0\\t0\\t0\\t0\\t0\\n20\\t0\\t-0,65...</td>\n",
       "    </tr>\n",
       "    <tr>\n",
       "      <th>...</th>\n",
       "      <td>...</td>\n",
       "      <td>...</td>\n",
       "      <td>...</td>\n",
       "      <td>...</td>\n",
       "    </tr>\n",
       "    <tr>\n",
       "      <th>365</th>\n",
       "      <td>826ES4</td>\n",
       "      <td>female</td>\n",
       "      <td>False</td>\n",
       "      <td>T\\tLX\\tLY\\tRX\\tRY\\n0\\t0\\t0\\t0\\t0\\n20\\t-9,99999...</td>\n",
       "    </tr>\n",
       "    <tr>\n",
       "      <th>366</th>\n",
       "      <td>826PP1</td>\n",
       "      <td>male</td>\n",
       "      <td>True</td>\n",
       "      <td>T\\tLX\\tLY\\tRX\\tRY\\n0\\t0\\t0\\t0\\t0\\n20\\t-9,99999...</td>\n",
       "    </tr>\n",
       "    <tr>\n",
       "      <th>367</th>\n",
       "      <td>826SJ1</td>\n",
       "      <td>male</td>\n",
       "      <td>True</td>\n",
       "      <td>T\\tLX\\tLY\\tRX\\tRY\\n0\\t0\\t0\\t0\\t0\\n20\\t0\\t0\\t-0...</td>\n",
       "    </tr>\n",
       "    <tr>\n",
       "      <th>368</th>\n",
       "      <td>831OK2</td>\n",
       "      <td>female</td>\n",
       "      <td>True</td>\n",
       "      <td>T\\tLX\\tLY\\tRX\\tRY\\n0\\t0\\t0\\t0\\t0\\n20\\t1,999999...</td>\n",
       "    </tr>\n",
       "    <tr>\n",
       "      <th>369</th>\n",
       "      <td>831PA3</td>\n",
       "      <td>male</td>\n",
       "      <td>False</td>\n",
       "      <td>T\\tLX\\tLY\\tRX\\tRY\\n0\\t0\\t0\\t0\\t0\\n20\\t0\\t-0,65...</td>\n",
       "    </tr>\n",
       "  </tbody>\n",
       "</table>\n",
       "<p>370 rows × 4 columns</p>\n",
       "</div>"
      ],
      "text/plain": [
       "    Folder Name  Gender  Reading Disabled  \\\n",
       "0        111GM3    male             False   \n",
       "1        111JA2  female              True   \n",
       "2        111RP1    male              True   \n",
       "3        112JU3    male             False   \n",
       "4        112KA1    male              True   \n",
       "..          ...     ...               ...   \n",
       "365      826ES4  female             False   \n",
       "366      826PP1    male              True   \n",
       "367      826SJ1    male              True   \n",
       "368      831OK2  female              True   \n",
       "369      831PA3    male             False   \n",
       "\n",
       "                                                  Data  \n",
       "0    T\\tLX\\tLY\\tRX\\tRY\\n0\\t0\\t0\\t0\\t0\\n20\\t0,65535\\...  \n",
       "1    T\\tLX\\tLY\\tRX\\tRY\\n0\\t0\\t0\\t0\\t0\\n20\\t-1,00000...  \n",
       "2    T\\tLX\\tLY\\tRX\\tRY\\n0\\t0\\t0\\t0\\t0\\n20\\t0\\t0\\t0\\...  \n",
       "3    T\\tLX\\tLY\\tRX\\tRY\\n0\\t0\\t0\\t0\\t0\\n20\\t0\\t0\\t0,...  \n",
       "4    T\\tLX\\tLY\\tRX\\tRY\\n0\\t0\\t0\\t0\\t0\\n20\\t0\\t-0,65...  \n",
       "..                                                 ...  \n",
       "365  T\\tLX\\tLY\\tRX\\tRY\\n0\\t0\\t0\\t0\\t0\\n20\\t-9,99999...  \n",
       "366  T\\tLX\\tLY\\tRX\\tRY\\n0\\t0\\t0\\t0\\t0\\n20\\t-9,99999...  \n",
       "367  T\\tLX\\tLY\\tRX\\tRY\\n0\\t0\\t0\\t0\\t0\\n20\\t0\\t0\\t-0...  \n",
       "368  T\\tLX\\tLY\\tRX\\tRY\\n0\\t0\\t0\\t0\\t0\\n20\\t1,999999...  \n",
       "369  T\\tLX\\tLY\\tRX\\tRY\\n0\\t0\\t0\\t0\\t0\\n20\\t0\\t-0,65...  \n",
       "\n",
       "[370 rows x 4 columns]"
      ]
     },
     "execution_count": 17,
     "metadata": {},
     "output_type": "execute_result"
    }
   ],
   "source": [
    "df"
   ]
  },
  {
   "cell_type": "code",
   "execution_count": 19,
   "id": "2d2a8dd8",
   "metadata": {},
   "outputs": [
    {
     "data": {
      "text/plain": [
       "(370, 4)"
      ]
     },
     "execution_count": 19,
     "metadata": {},
     "output_type": "execute_result"
    }
   ],
   "source": [
    "df.shape"
   ]
  },
  {
   "cell_type": "code",
   "execution_count": null,
   "id": "ad580947",
   "metadata": {},
   "outputs": [],
   "source": []
  }
 ],
 "metadata": {
  "kernelspec": {
   "display_name": "Python 3 (ipykernel)",
   "language": "python",
   "name": "python3"
  },
  "language_info": {
   "codemirror_mode": {
    "name": "ipython",
    "version": 3
   },
   "file_extension": ".py",
   "mimetype": "text/x-python",
   "name": "python",
   "nbconvert_exporter": "python",
   "pygments_lexer": "ipython3",
   "version": "3.11.5"
  }
 },
 "nbformat": 4,
 "nbformat_minor": 5
}
