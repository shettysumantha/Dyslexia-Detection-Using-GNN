{
 "cells": [
  {
   "cell_type": "code",
   "execution_count": 14,
   "metadata": {},
   "outputs": [],
   "source": [
    "from sentence_transformers import SentenceTransformer\n"
   ]
  },
  {
   "cell_type": "code",
   "execution_count": 3,
   "metadata": {},
   "outputs": [
    {
     "data": {
      "text/html": [
       "<div>\n",
       "<style scoped>\n",
       "    .dataframe tbody tr th:only-of-type {\n",
       "        vertical-align: middle;\n",
       "    }\n",
       "\n",
       "    .dataframe tbody tr th {\n",
       "        vertical-align: top;\n",
       "    }\n",
       "\n",
       "    .dataframe thead th {\n",
       "        text-align: right;\n",
       "    }\n",
       "</style>\n",
       "<table border=\"1\" class=\"dataframe\">\n",
       "  <thead>\n",
       "    <tr style=\"text-align: right;\">\n",
       "      <th></th>\n",
       "      <th>movieId</th>\n",
       "      <th>title</th>\n",
       "      <th>genres</th>\n",
       "    </tr>\n",
       "  </thead>\n",
       "  <tbody>\n",
       "    <tr>\n",
       "      <th>0</th>\n",
       "      <td>1</td>\n",
       "      <td>Toy Story (1995)</td>\n",
       "      <td>Adventure|Animation|Children|Comedy|Fantasy</td>\n",
       "    </tr>\n",
       "    <tr>\n",
       "      <th>1</th>\n",
       "      <td>2</td>\n",
       "      <td>Jumanji (1995)</td>\n",
       "      <td>Adventure|Children|Fantasy</td>\n",
       "    </tr>\n",
       "    <tr>\n",
       "      <th>2</th>\n",
       "      <td>3</td>\n",
       "      <td>Grumpier Old Men (1995)</td>\n",
       "      <td>Comedy|Romance</td>\n",
       "    </tr>\n",
       "    <tr>\n",
       "      <th>3</th>\n",
       "      <td>4</td>\n",
       "      <td>Waiting to Exhale (1995)</td>\n",
       "      <td>Comedy|Drama|Romance</td>\n",
       "    </tr>\n",
       "    <tr>\n",
       "      <th>4</th>\n",
       "      <td>5</td>\n",
       "      <td>Father of the Bride Part II (1995)</td>\n",
       "      <td>Comedy</td>\n",
       "    </tr>\n",
       "  </tbody>\n",
       "</table>\n",
       "</div>"
      ],
      "text/plain": [
       "   movieId                               title  \\\n",
       "0        1                    Toy Story (1995)   \n",
       "1        2                      Jumanji (1995)   \n",
       "2        3             Grumpier Old Men (1995)   \n",
       "3        4            Waiting to Exhale (1995)   \n",
       "4        5  Father of the Bride Part II (1995)   \n",
       "\n",
       "                                        genres  \n",
       "0  Adventure|Animation|Children|Comedy|Fantasy  \n",
       "1                   Adventure|Children|Fantasy  \n",
       "2                               Comedy|Romance  \n",
       "3                         Comedy|Drama|Romance  \n",
       "4                                       Comedy  "
      ]
     },
     "execution_count": 3,
     "metadata": {},
     "output_type": "execute_result"
    }
   ],
   "source": [
    "import pandas as pd\n",
    "movie_path = './ml-latest-small/movies.csv'\n",
    "rating_path = './ml-latest-small/processed_rating.csv'\n",
    "movie=pd.read_csv(movie_path)\n",
    "rating=pd.read_csv(rating_path,index_col=0)\n",
    "movie.head()\n"
   ]
  },
  {
   "cell_type": "code",
   "execution_count": 5,
   "metadata": {},
   "outputs": [],
   "source": [
    "rating.sort_values(by=\"timestamp\",inplace=True)"
   ]
  },
  {
   "cell_type": "code",
   "execution_count": 6,
   "metadata": {},
   "outputs": [
    {
     "data": {
      "text/html": [
       "<div>\n",
       "<style scoped>\n",
       "    .dataframe tbody tr th:only-of-type {\n",
       "        vertical-align: middle;\n",
       "    }\n",
       "\n",
       "    .dataframe tbody tr th {\n",
       "        vertical-align: top;\n",
       "    }\n",
       "\n",
       "    .dataframe thead th {\n",
       "        text-align: right;\n",
       "    }\n",
       "</style>\n",
       "<table border=\"1\" class=\"dataframe\">\n",
       "  <thead>\n",
       "    <tr style=\"text-align: right;\">\n",
       "      <th></th>\n",
       "      <th>userId</th>\n",
       "      <th>movieId</th>\n",
       "      <th>rating</th>\n",
       "      <th>timestamp</th>\n",
       "    </tr>\n",
       "  </thead>\n",
       "  <tbody>\n",
       "    <tr>\n",
       "      <th>66713</th>\n",
       "      <td>429</td>\n",
       "      <td>434</td>\n",
       "      <td>4.0</td>\n",
       "      <td>828124615</td>\n",
       "    </tr>\n",
       "    <tr>\n",
       "      <th>66717</th>\n",
       "      <td>429</td>\n",
       "      <td>590</td>\n",
       "      <td>5.0</td>\n",
       "      <td>828124615</td>\n",
       "    </tr>\n",
       "    <tr>\n",
       "      <th>66716</th>\n",
       "      <td>429</td>\n",
       "      <td>588</td>\n",
       "      <td>5.0</td>\n",
       "      <td>828124615</td>\n",
       "    </tr>\n",
       "    <tr>\n",
       "      <th>66714</th>\n",
       "      <td>429</td>\n",
       "      <td>468</td>\n",
       "      <td>3.0</td>\n",
       "      <td>828124615</td>\n",
       "    </tr>\n",
       "    <tr>\n",
       "      <th>66705</th>\n",
       "      <td>429</td>\n",
       "      <td>343</td>\n",
       "      <td>3.0</td>\n",
       "      <td>828124615</td>\n",
       "    </tr>\n",
       "  </tbody>\n",
       "</table>\n",
       "</div>"
      ],
      "text/plain": [
       "       userId  movieId  rating  timestamp\n",
       "66713     429      434     4.0  828124615\n",
       "66717     429      590     5.0  828124615\n",
       "66716     429      588     5.0  828124615\n",
       "66714     429      468     3.0  828124615\n",
       "66705     429      343     3.0  828124615"
      ]
     },
     "execution_count": 6,
     "metadata": {},
     "output_type": "execute_result"
    }
   ],
   "source": [
    "rating.head()"
   ]
  },
  {
   "cell_type": "code",
   "execution_count": 7,
   "metadata": {},
   "outputs": [
    {
     "data": {
      "text/html": [
       "<div>\n",
       "<style scoped>\n",
       "    .dataframe tbody tr th:only-of-type {\n",
       "        vertical-align: middle;\n",
       "    }\n",
       "\n",
       "    .dataframe tbody tr th {\n",
       "        vertical-align: top;\n",
       "    }\n",
       "\n",
       "    .dataframe thead th {\n",
       "        text-align: right;\n",
       "    }\n",
       "</style>\n",
       "<table border=\"1\" class=\"dataframe\">\n",
       "  <thead>\n",
       "    <tr style=\"text-align: right;\">\n",
       "      <th></th>\n",
       "      <th>userId</th>\n",
       "      <th>movieId</th>\n",
       "      <th>rating</th>\n",
       "      <th>timestamp</th>\n",
       "    </tr>\n",
       "  </thead>\n",
       "  <tbody>\n",
       "    <tr>\n",
       "      <th>30177</th>\n",
       "      <td>210</td>\n",
       "      <td>180031</td>\n",
       "      <td>4.0</td>\n",
       "      <td>1537649775</td>\n",
       "    </tr>\n",
       "    <tr>\n",
       "      <th>81475</th>\n",
       "      <td>514</td>\n",
       "      <td>187031</td>\n",
       "      <td>2.5</td>\n",
       "      <td>1537674927</td>\n",
       "    </tr>\n",
       "    <tr>\n",
       "      <th>81477</th>\n",
       "      <td>514</td>\n",
       "      <td>187595</td>\n",
       "      <td>3.0</td>\n",
       "      <td>1537674946</td>\n",
       "    </tr>\n",
       "    <tr>\n",
       "      <th>81336</th>\n",
       "      <td>514</td>\n",
       "      <td>5247</td>\n",
       "      <td>2.5</td>\n",
       "      <td>1537757040</td>\n",
       "    </tr>\n",
       "    <tr>\n",
       "      <th>81092</th>\n",
       "      <td>514</td>\n",
       "      <td>162</td>\n",
       "      <td>4.0</td>\n",
       "      <td>1537799250</td>\n",
       "    </tr>\n",
       "  </tbody>\n",
       "</table>\n",
       "</div>"
      ],
      "text/plain": [
       "       userId  movieId  rating   timestamp\n",
       "30177     210   180031     4.0  1537649775\n",
       "81475     514   187031     2.5  1537674927\n",
       "81477     514   187595     3.0  1537674946\n",
       "81336     514     5247     2.5  1537757040\n",
       "81092     514      162     4.0  1537799250"
      ]
     },
     "execution_count": 7,
     "metadata": {},
     "output_type": "execute_result"
    }
   ],
   "source": [
    "rating.tail()"
   ]
  },
  {
   "cell_type": "markdown",
   "metadata": {},
   "source": [
    "# Converting Data into Temporal Data set"
   ]
  },
  {
   "cell_type": "code",
   "execution_count": 10,
   "metadata": {},
   "outputs": [],
   "source": [
    "import torch\n",
    "\n",
    "def load_node_csv(path, index_col, encoders=None, **kwargs):\n",
    "    df = pd.read_csv(path, index_col=index_col, **kwargs)\n",
    "    mapping = {index: i for i, index in enumerate(df.index.unique())}\n",
    "\n",
    "    x = None\n",
    "    if encoders is not None:\n",
    "        xs = [encoder(df[col]) for col, encoder in encoders.items()]\n",
    "        x = torch.cat(xs, dim=-1)\n",
    "\n",
    "    return x, mapping"
   ]
  },
  {
   "cell_type": "code",
   "execution_count": 11,
   "metadata": {},
   "outputs": [],
   "source": [
    "class SequenceEncoder(object):\n",
    "    def __init__(self, model_name='all-MiniLM-L6-v2', device=None):\n",
    "        self.device = device\n",
    "        self.model = SentenceTransformer(model_name, device=device)\n",
    "\n",
    "    @torch.no_grad()\n",
    "    def __call__(self, df):\n",
    "        x = self.model.encode(df.values, show_progress_bar=True,\n",
    "                              convert_to_tensor=True, device=self.device)\n",
    "        return x.cpu()"
   ]
  },
  {
   "cell_type": "code",
   "execution_count": 12,
   "metadata": {},
   "outputs": [],
   "source": [
    "class GenresEncoder(object):\n",
    "    def __init__(self, sep='|'):\n",
    "        self.sep = sep\n",
    "\n",
    "    def __call__(self, df):\n",
    "        genres = set(g for col in df.values for g in col.split(self.sep))\n",
    "        mapping = {genre: i for i, genre in enumerate(genres)}\n",
    "\n",
    "        x = torch.zeros(len(df), len(mapping))\n",
    "        for i, col in enumerate(df.values):\n",
    "            for genre in col.split(self.sep):\n",
    "                x[i, mapping[genre]] = 1\n",
    "        return x"
   ]
  },
  {
   "cell_type": "code",
   "execution_count": 15,
   "metadata": {},
   "outputs": [
    {
     "data": {
      "application/vnd.jupyter.widget-view+json": {
       "model_id": "a028bbd672ab4bba8d047c058e0a36aa",
       "version_major": 2,
       "version_minor": 0
      },
      "text/plain": [
       "HBox(children=(FloatProgress(value=0.0, description='Batches', max=305.0, style=ProgressStyle(description_widt…"
      ]
     },
     "metadata": {},
     "output_type": "display_data"
    },
    {
     "name": "stdout",
     "output_type": "stream",
     "text": [
      "\n"
     ]
    }
   ],
   "source": [
    "movie_x, movie_mapping = load_node_csv(\n",
    "    movie_path, index_col='movieId', encoders={\n",
    "        'title': SequenceEncoder(),\n",
    "        'genres': GenresEncoder()\n",
    "    })"
   ]
  },
  {
   "cell_type": "code",
   "execution_count": 43,
   "metadata": {},
   "outputs": [
    {
     "data": {
      "text/plain": [
       "torch.Size([9742, 404])"
      ]
     },
     "execution_count": 43,
     "metadata": {},
     "output_type": "execute_result"
    }
   ],
   "source": [
    "movie_x.shape"
   ]
  },
  {
   "cell_type": "code",
   "execution_count": 23,
   "metadata": {},
   "outputs": [],
   "source": [
    "start_num_for_user=max(list(movie_mapping.values()))+1"
   ]
  },
  {
   "cell_type": "code",
   "execution_count": 24,
   "metadata": {},
   "outputs": [
    {
     "data": {
      "text/html": [
       "<div>\n",
       "<style scoped>\n",
       "    .dataframe tbody tr th:only-of-type {\n",
       "        vertical-align: middle;\n",
       "    }\n",
       "\n",
       "    .dataframe tbody tr th {\n",
       "        vertical-align: top;\n",
       "    }\n",
       "\n",
       "    .dataframe thead th {\n",
       "        text-align: right;\n",
       "    }\n",
       "</style>\n",
       "<table border=\"1\" class=\"dataframe\">\n",
       "  <thead>\n",
       "    <tr style=\"text-align: right;\">\n",
       "      <th></th>\n",
       "      <th>userId</th>\n",
       "      <th>movieId</th>\n",
       "      <th>rating</th>\n",
       "      <th>timestamp</th>\n",
       "    </tr>\n",
       "  </thead>\n",
       "  <tbody>\n",
       "    <tr>\n",
       "      <th>66713</th>\n",
       "      <td>429</td>\n",
       "      <td>434</td>\n",
       "      <td>4.0</td>\n",
       "      <td>828124615</td>\n",
       "    </tr>\n",
       "    <tr>\n",
       "      <th>66717</th>\n",
       "      <td>429</td>\n",
       "      <td>590</td>\n",
       "      <td>5.0</td>\n",
       "      <td>828124615</td>\n",
       "    </tr>\n",
       "    <tr>\n",
       "      <th>66716</th>\n",
       "      <td>429</td>\n",
       "      <td>588</td>\n",
       "      <td>5.0</td>\n",
       "      <td>828124615</td>\n",
       "    </tr>\n",
       "    <tr>\n",
       "      <th>66714</th>\n",
       "      <td>429</td>\n",
       "      <td>468</td>\n",
       "      <td>3.0</td>\n",
       "      <td>828124615</td>\n",
       "    </tr>\n",
       "    <tr>\n",
       "      <th>66705</th>\n",
       "      <td>429</td>\n",
       "      <td>343</td>\n",
       "      <td>3.0</td>\n",
       "      <td>828124615</td>\n",
       "    </tr>\n",
       "  </tbody>\n",
       "</table>\n",
       "</div>"
      ],
      "text/plain": [
       "       userId  movieId  rating  timestamp\n",
       "66713     429      434     4.0  828124615\n",
       "66717     429      590     5.0  828124615\n",
       "66716     429      588     5.0  828124615\n",
       "66714     429      468     3.0  828124615\n",
       "66705     429      343     3.0  828124615"
      ]
     },
     "execution_count": 24,
     "metadata": {},
     "output_type": "execute_result"
    }
   ],
   "source": [
    "rating.head()"
   ]
  },
  {
   "cell_type": "code",
   "execution_count": 184,
   "metadata": {},
   "outputs": [],
   "source": [
    "uesr_mapping={}\n",
    "for i in range(len(rating)):\n",
    "    userId=rating.iloc[i,0]\n",
    "    if userId not in uesr_mapping:\n",
    "        uesr_mapping[userId]=start_num_for_user\n",
    "        start_num_for_user+=1"
   ]
  },
  {
   "cell_type": "code",
   "execution_count": 185,
   "metadata": {},
   "outputs": [],
   "source": [
    "edge_no=rating.shape[0]\n",
    "src=torch.zeros(edge_no,dtype=torch.int64)\n",
    "dst=torch.zeros(edge_no,dtype=torch.int64)\n",
    "t=torch.zeros(edge_no,dtype=torch.int64)\n",
    "msg=torch.zeros(edge_no,movie_x.shape[1],dtype=torch.float32)\n",
    "\n",
    "for i in range(len(rating)):\n",
    "    userId=uesr_mapping[rating.iloc[i,0]]\n",
    "    src[i]=userId\n",
    "    \n",
    "    movieID=movie_mapping[rating.iloc[i,1]]\n",
    "    dst[i]=movieID\n",
    "    \n",
    "    time=rating.iloc[i,3]\n",
    "    t[i]=time\n",
    "    \n",
    "    msg[i,:]+=movie_x[movieID,:]"
   ]
  },
  {
   "cell_type": "code",
   "execution_count": 186,
   "metadata": {},
   "outputs": [
    {
     "data": {
      "text/plain": [
       "torch.float32"
      ]
     },
     "execution_count": 186,
     "metadata": {},
     "output_type": "execute_result"
    }
   ],
   "source": [
    "msg.dtype"
   ]
  },
  {
   "cell_type": "code",
   "execution_count": 187,
   "metadata": {},
   "outputs": [],
   "source": [
    "from torch import Tensor\n",
    "from torch_geometric.data import TemporalData\n",
    "\n",
    "data = TemporalData(\n",
    "    src=src,\n",
    "    dst=dst,\n",
    "    t=t,\n",
    "    msg=msg)"
   ]
  },
  {
   "cell_type": "code",
   "execution_count": 188,
   "metadata": {},
   "outputs": [
    {
     "data": {
      "text/plain": [
       "TemporalData(dst=[87313], msg=[87313, 404], src=[87313], t=[87313])"
      ]
     },
     "execution_count": 188,
     "metadata": {},
     "output_type": "execute_result"
    }
   ],
   "source": [
    "data"
   ]
  },
  {
   "cell_type": "code",
   "execution_count": 189,
   "metadata": {},
   "outputs": [
    {
     "data": {
      "text/plain": [
       "torch.float32"
      ]
     },
     "execution_count": 189,
     "metadata": {},
     "output_type": "execute_result"
    }
   ],
   "source": [
    "data['msg'].dtype"
   ]
  },
  {
   "cell_type": "markdown",
   "metadata": {},
   "source": [
    "# Training the model"
   ]
  },
  {
   "cell_type": "code",
   "execution_count": 190,
   "metadata": {},
   "outputs": [],
   "source": [
    "import torch\n",
    "from sklearn.metrics import average_precision_score, roc_auc_score\n",
    "from torch.nn import Linear\n",
    "\n",
    "from torch_geometric.datasets import JODIEDataset\n",
    "from torch_geometric.nn import TGNMemory, TransformerConv\n",
    "from torch_geometric.nn.models.tgn import (IdentityMessage, LastAggregator,\n",
    "                                           LastNeighborLoader)\n",
    "import matplotlib.pyplot as plt\n",
    "import numpy as np"
   ]
  },
  {
   "cell_type": "code",
   "execution_count": 191,
   "metadata": {},
   "outputs": [],
   "source": [
    "device = torch.device('cuda' if torch.cuda.is_available() else 'cpu')"
   ]
  },
  {
   "cell_type": "code",
   "execution_count": 192,
   "metadata": {},
   "outputs": [],
   "source": [
    "min_dst_idx, max_dst_idx = int(data.dst.min()), int(data.dst.max())"
   ]
  },
  {
   "cell_type": "code",
   "execution_count": 193,
   "metadata": {},
   "outputs": [],
   "source": [
    "train_data, val_data, test_data = data.train_val_test_split(\n",
    "    val_ratio=0.15, test_ratio=0.15)"
   ]
  },
  {
   "cell_type": "code",
   "execution_count": 194,
   "metadata": {},
   "outputs": [
    {
     "name": "stdout",
     "output_type": "stream",
     "text": [
      "#  of nodes: 10962\n"
     ]
    }
   ],
   "source": [
    "print(\"#  of nodes:\",data.num_nodes)"
   ]
  },
  {
   "cell_type": "code",
   "execution_count": 195,
   "metadata": {},
   "outputs": [],
   "source": [
    "neighbor_loader = LastNeighborLoader(data.num_nodes, size=10, device=device)"
   ]
  },
  {
   "cell_type": "code",
   "execution_count": 196,
   "metadata": {},
   "outputs": [],
   "source": [
    "class GraphAttentionEmbedding(torch.nn.Module):\n",
    "    def __init__(self, in_channels, out_channels, msg_dim, time_enc):\n",
    "        super().__init__()\n",
    "        self.time_enc = time_enc\n",
    "        edge_dim = msg_dim + time_enc.out_channels\n",
    "        self.conv = TransformerConv(in_channels, out_channels // 2, heads=2,\n",
    "                                    dropout=0.1, edge_dim=edge_dim)\n",
    "\n",
    "    def forward(self, x, last_update, edge_index, t, msg):\n",
    "        rel_t = last_update[edge_index[0]] - t\n",
    "        rel_t_enc = self.time_enc(rel_t.to(x.dtype))\n",
    "        edge_attr = torch.cat([rel_t_enc, msg], dim=-1)\n",
    "        return self.conv(x, edge_index, edge_attr)"
   ]
  },
  {
   "cell_type": "code",
   "execution_count": 197,
   "metadata": {},
   "outputs": [],
   "source": [
    "class LinkPredictor(torch.nn.Module):\n",
    "    def __init__(self, in_channels):\n",
    "        super().__init__()\n",
    "        self.lin_src = Linear(in_channels, in_channels)\n",
    "        self.lin_dst = Linear(in_channels, in_channels)\n",
    "        self.lin_final = Linear(in_channels, 1)\n",
    "\n",
    "    def forward(self, z_src, z_dst):\n",
    "        h = self.lin_src(z_src) + self.lin_dst(z_dst)\n",
    "        h = h.relu()\n",
    "        return self.lin_final(h)"
   ]
  },
  {
   "cell_type": "code",
   "execution_count": 198,
   "metadata": {},
   "outputs": [],
   "source": [
    "memory_dim = time_dim = embedding_dim = 100"
   ]
  },
  {
   "cell_type": "code",
   "execution_count": 199,
   "metadata": {},
   "outputs": [],
   "source": [
    "memory = TGNMemory(\n",
    "    data.num_nodes,\n",
    "    data.msg.size(-1),\n",
    "    memory_dim,\n",
    "    time_dim,\n",
    "    message_module=IdentityMessage(data.msg.size(-1), memory_dim, time_dim),\n",
    "    aggregator_module=LastAggregator(),\n",
    ").to(device)"
   ]
  },
  {
   "cell_type": "code",
   "execution_count": 200,
   "metadata": {},
   "outputs": [],
   "source": [
    "gnn = GraphAttentionEmbedding(\n",
    "    in_channels=memory_dim,\n",
    "    out_channels=embedding_dim,\n",
    "    msg_dim=data.msg.size(-1),\n",
    "    time_enc=memory.time_enc,\n",
    ").to(device)"
   ]
  },
  {
   "cell_type": "code",
   "execution_count": 201,
   "metadata": {},
   "outputs": [],
   "source": [
    "link_pred = LinkPredictor(in_channels=embedding_dim).to(device)"
   ]
  },
  {
   "cell_type": "code",
   "execution_count": 202,
   "metadata": {},
   "outputs": [],
   "source": [
    "optimizer = torch.optim.Adam(\n",
    "    set(memory.parameters()) | set(gnn.parameters())\n",
    "    | set(link_pred.parameters()), lr=0.0001)\n",
    "criterion = torch.nn.BCEWithLogitsLoss()"
   ]
  },
  {
   "cell_type": "code",
   "execution_count": 203,
   "metadata": {},
   "outputs": [],
   "source": [
    "# Helper vector to map global node indices to local ones.\n",
    "assoc = torch.empty(data.num_nodes, dtype=torch.long, device=device)\n"
   ]
  },
  {
   "cell_type": "code",
   "execution_count": 204,
   "metadata": {},
   "outputs": [],
   "source": [
    "def train():\n",
    "    memory.train()\n",
    "    gnn.train()\n",
    "    link_pred.train()\n",
    "\n",
    "    memory.reset_state()  # Start with a fresh memory.\n",
    "    neighbor_loader.reset_state()  # Start with an empty graph.\n",
    "\n",
    "    total_loss = 0\n",
    "    for batch in train_data.seq_batches(batch_size=200):\n",
    "        optimizer.zero_grad()\n",
    "\n",
    "        src, pos_dst, t, msg = batch.src, batch.dst, batch.t, batch.msg\n",
    "\n",
    "        # Sample negative destination nodes.\n",
    "        neg_dst = torch.randint(min_dst_idx, max_dst_idx + 1, (src.size(0), ),\n",
    "                                dtype=torch.long, device=device)\n",
    "\n",
    "        n_id = torch.cat([src, pos_dst, neg_dst]).unique()\n",
    "        n_id, edge_index, e_id = neighbor_loader(n_id)\n",
    "        assoc[n_id] = torch.arange(n_id.size(0), device=device)\n",
    "\n",
    "        # Get updated memory of all nodes involved in the computation.\n",
    "        z, last_update = memory(n_id)\n",
    "        z = gnn(z, last_update, edge_index, data.t[e_id], data.msg[e_id])\n",
    "\n",
    "        pos_out = link_pred(z[assoc[src]], z[assoc[pos_dst]])\n",
    "        neg_out = link_pred(z[assoc[src]], z[assoc[neg_dst]])\n",
    "\n",
    "        loss = criterion(pos_out, torch.ones_like(pos_out))\n",
    "        loss += criterion(neg_out, torch.zeros_like(neg_out))\n",
    "\n",
    "        # Update memory and neighbor loader with ground-truth state.\n",
    "        memory.update_state(src, pos_dst, t, msg)\n",
    "        neighbor_loader.insert(src, pos_dst)\n",
    "\n",
    "        loss.backward()\n",
    "        optimizer.step()\n",
    "        memory.detach()\n",
    "        total_loss += float(loss) * batch.num_events\n",
    "\n",
    "    return total_loss / train_data.num_events"
   ]
  },
  {
   "cell_type": "code",
   "execution_count": 205,
   "metadata": {},
   "outputs": [],
   "source": [
    "@torch.no_grad()\n",
    "def test(inference_data):\n",
    "    memory.eval()\n",
    "    gnn.eval()\n",
    "    link_pred.eval()\n",
    "\n",
    "    torch.manual_seed(12345)  # Ensure deterministic sampling across epochs.\n",
    "\n",
    "    aps, aucs = [], []\n",
    "    for batch in inference_data.seq_batches(batch_size=200):\n",
    "        src, pos_dst, t, msg = batch.src, batch.dst, batch.t, batch.msg\n",
    "\n",
    "        neg_dst = torch.randint(min_dst_idx, max_dst_idx + 1, (src.size(0), ),\n",
    "                                dtype=torch.long, device=device)\n",
    "\n",
    "        n_id = torch.cat([src, pos_dst, neg_dst]).unique()\n",
    "        n_id, edge_index, e_id = neighbor_loader(n_id)\n",
    "        assoc[n_id] = torch.arange(n_id.size(0), device=device)\n",
    "\n",
    "        z, last_update = memory(n_id)\n",
    "        z = gnn(z, last_update, edge_index, data.t[e_id], data.msg[e_id])\n",
    "\n",
    "        pos_out = link_pred(z[assoc[src]], z[assoc[pos_dst]])\n",
    "        neg_out = link_pred(z[assoc[src]], z[assoc[neg_dst]])\n",
    "\n",
    "        y_pred = torch.cat([pos_out, neg_out], dim=0).sigmoid().cpu()\n",
    "        y_true = torch.cat(\n",
    "            [torch.ones(pos_out.size(0)),\n",
    "             torch.zeros(neg_out.size(0))], dim=0)\n",
    "\n",
    "        aps.append(average_precision_score(y_true, y_pred))\n",
    "        aucs.append(roc_auc_score(y_true, y_pred))\n",
    "\n",
    "        memory.update_state(src, pos_dst, t, msg)\n",
    "        neighbor_loader.insert(src, pos_dst)\n",
    "\n",
    "    return float(torch.tensor(aps).mean()), float(torch.tensor(aucs).mean())"
   ]
  },
  {
   "cell_type": "code",
   "execution_count": 206,
   "metadata": {},
   "outputs": [
    {
     "name": "stdout",
     "output_type": "stream",
     "text": [
      "  Epoch: 01, Loss: 1.1058\n",
      " Val AP: 0.8302,  Val AUC: 0.8300\n",
      "Test AP: 0.7889, Test AUC: 0.7835\n",
      "  Epoch: 02, Loss: 0.9633\n",
      " Val AP: 0.8314,  Val AUC: 0.8431\n",
      "Test AP: 0.7866, Test AUC: 0.7893\n",
      "  Epoch: 03, Loss: 0.9253\n",
      " Val AP: 0.8411,  Val AUC: 0.8499\n",
      "Test AP: 0.7931, Test AUC: 0.7932\n",
      "  Epoch: 04, Loss: 0.9122\n",
      " Val AP: 0.8460,  Val AUC: 0.8552\n",
      "Test AP: 0.7956, Test AUC: 0.7966\n",
      "  Epoch: 05, Loss: 0.9053\n",
      " Val AP: 0.8523,  Val AUC: 0.8604\n",
      "Test AP: 0.7977, Test AUC: 0.7984\n",
      "  Epoch: 06, Loss: 0.8983\n",
      " Val AP: 0.8548,  Val AUC: 0.8638\n",
      "Test AP: 0.8014, Test AUC: 0.8025\n",
      "  Epoch: 07, Loss: 0.8925\n",
      " Val AP: 0.8591,  Val AUC: 0.8667\n",
      "Test AP: 0.8046, Test AUC: 0.8055\n",
      "  Epoch: 08, Loss: 0.8885\n",
      " Val AP: 0.8600,  Val AUC: 0.8686\n",
      "Test AP: 0.8044, Test AUC: 0.8052\n",
      "  Epoch: 09, Loss: 0.8833\n",
      " Val AP: 0.8625,  Val AUC: 0.8702\n",
      "Test AP: 0.8064, Test AUC: 0.8068\n",
      "  Epoch: 10, Loss: 0.8812\n",
      " Val AP: 0.8656,  Val AUC: 0.8734\n",
      "Test AP: 0.8085, Test AUC: 0.8089\n",
      "  Epoch: 11, Loss: 0.8784\n",
      " Val AP: 0.8641,  Val AUC: 0.8721\n",
      "Test AP: 0.8086, Test AUC: 0.8084\n",
      "  Epoch: 12, Loss: 0.8737\n",
      " Val AP: 0.8649,  Val AUC: 0.8736\n",
      "Test AP: 0.8090, Test AUC: 0.8096\n",
      "  Epoch: 13, Loss: 0.8709\n",
      " Val AP: 0.8660,  Val AUC: 0.8747\n",
      "Test AP: 0.8091, Test AUC: 0.8107\n",
      "  Epoch: 14, Loss: 0.8684\n",
      " Val AP: 0.8675,  Val AUC: 0.8753\n",
      "Test AP: 0.8098, Test AUC: 0.8101\n",
      "  Epoch: 15, Loss: 0.8651\n",
      " Val AP: 0.8681,  Val AUC: 0.8768\n",
      "Test AP: 0.8117, Test AUC: 0.8122\n",
      "  Epoch: 16, Loss: 0.8623\n",
      " Val AP: 0.8691,  Val AUC: 0.8770\n",
      "Test AP: 0.8113, Test AUC: 0.8126\n",
      "  Epoch: 17, Loss: 0.8597\n",
      " Val AP: 0.8687,  Val AUC: 0.8774\n",
      "Test AP: 0.8105, Test AUC: 0.8118\n",
      "  Epoch: 18, Loss: 0.8578\n",
      " Val AP: 0.8693,  Val AUC: 0.8785\n",
      "Test AP: 0.8112, Test AUC: 0.8135\n",
      "  Epoch: 19, Loss: 0.8543\n",
      " Val AP: 0.8682,  Val AUC: 0.8773\n",
      "Test AP: 0.8103, Test AUC: 0.8121\n",
      "  Epoch: 20, Loss: 0.8532\n",
      " Val AP: 0.8693,  Val AUC: 0.8787\n",
      "Test AP: 0.8112, Test AUC: 0.8144\n",
      "  Epoch: 21, Loss: 0.8517\n",
      " Val AP: 0.8701,  Val AUC: 0.8793\n",
      "Test AP: 0.8107, Test AUC: 0.8141\n",
      "  Epoch: 22, Loss: 0.8487\n",
      " Val AP: 0.8697,  Val AUC: 0.8796\n",
      "Test AP: 0.8104, Test AUC: 0.8139\n",
      "  Epoch: 23, Loss: 0.8474\n",
      " Val AP: 0.8700,  Val AUC: 0.8796\n",
      "Test AP: 0.8124, Test AUC: 0.8155\n",
      "  Epoch: 24, Loss: 0.8459\n",
      " Val AP: 0.8709,  Val AUC: 0.8803\n",
      "Test AP: 0.8120, Test AUC: 0.8148\n",
      "  Epoch: 25, Loss: 0.8448\n",
      " Val AP: 0.8701,  Val AUC: 0.8810\n",
      "Test AP: 0.8124, Test AUC: 0.8157\n",
      "  Epoch: 26, Loss: 0.8423\n",
      " Val AP: 0.8694,  Val AUC: 0.8801\n",
      "Test AP: 0.8117, Test AUC: 0.8162\n",
      "  Epoch: 27, Loss: 0.8404\n",
      " Val AP: 0.8689,  Val AUC: 0.8802\n",
      "Test AP: 0.8127, Test AUC: 0.8171\n",
      "  Epoch: 28, Loss: 0.8401\n",
      " Val AP: 0.8695,  Val AUC: 0.8804\n",
      "Test AP: 0.8120, Test AUC: 0.8166\n",
      "  Epoch: 29, Loss: 0.8376\n",
      " Val AP: 0.8706,  Val AUC: 0.8810\n",
      "Test AP: 0.8115, Test AUC: 0.8154\n",
      "  Epoch: 30, Loss: 0.8369\n",
      " Val AP: 0.8699,  Val AUC: 0.8808\n",
      "Test AP: 0.8117, Test AUC: 0.8165\n",
      "  Epoch: 31, Loss: 0.8348\n",
      " Val AP: 0.8699,  Val AUC: 0.8810\n",
      "Test AP: 0.8101, Test AUC: 0.8158\n",
      "  Epoch: 32, Loss: 0.8346\n",
      " Val AP: 0.8703,  Val AUC: 0.8810\n",
      "Test AP: 0.8127, Test AUC: 0.8170\n",
      "  Epoch: 33, Loss: 0.8323\n",
      " Val AP: 0.8696,  Val AUC: 0.8806\n",
      "Test AP: 0.8123, Test AUC: 0.8179\n",
      "  Epoch: 34, Loss: 0.8317\n",
      " Val AP: 0.8702,  Val AUC: 0.8812\n",
      "Test AP: 0.8112, Test AUC: 0.8173\n",
      "  Epoch: 35, Loss: 0.8299\n",
      " Val AP: 0.8709,  Val AUC: 0.8824\n",
      "Test AP: 0.8117, Test AUC: 0.8175\n",
      "  Epoch: 36, Loss: 0.8293\n",
      " Val AP: 0.8694,  Val AUC: 0.8805\n",
      "Test AP: 0.8119, Test AUC: 0.8161\n",
      "  Epoch: 37, Loss: 0.8271\n",
      " Val AP: 0.8716,  Val AUC: 0.8828\n",
      "Test AP: 0.8151, Test AUC: 0.8199\n",
      "  Epoch: 38, Loss: 0.8263\n",
      " Val AP: 0.8706,  Val AUC: 0.8825\n",
      "Test AP: 0.8126, Test AUC: 0.8194\n",
      "  Epoch: 39, Loss: 0.8250\n",
      " Val AP: 0.8712,  Val AUC: 0.8828\n",
      "Test AP: 0.8142, Test AUC: 0.8205\n",
      "  Epoch: 40, Loss: 0.8241\n",
      " Val AP: 0.8708,  Val AUC: 0.8829\n",
      "Test AP: 0.8126, Test AUC: 0.8194\n",
      "  Epoch: 41, Loss: 0.8236\n",
      " Val AP: 0.8712,  Val AUC: 0.8828\n",
      "Test AP: 0.8131, Test AUC: 0.8188\n",
      "  Epoch: 42, Loss: 0.8214\n",
      " Val AP: 0.8726,  Val AUC: 0.8836\n",
      "Test AP: 0.8142, Test AUC: 0.8199\n",
      "  Epoch: 43, Loss: 0.8208\n",
      " Val AP: 0.8697,  Val AUC: 0.8822\n",
      "Test AP: 0.8119, Test AUC: 0.8179\n",
      "  Epoch: 44, Loss: 0.8187\n",
      " Val AP: 0.8707,  Val AUC: 0.8825\n",
      "Test AP: 0.8119, Test AUC: 0.8193\n",
      "  Epoch: 45, Loss: 0.8183\n",
      " Val AP: 0.8718,  Val AUC: 0.8833\n",
      "Test AP: 0.8117, Test AUC: 0.8189\n",
      "  Epoch: 46, Loss: 0.8161\n",
      " Val AP: 0.8724,  Val AUC: 0.8840\n",
      "Test AP: 0.8125, Test AUC: 0.8204\n",
      "  Epoch: 47, Loss: 0.8153\n",
      " Val AP: 0.8715,  Val AUC: 0.8832\n",
      "Test AP: 0.8120, Test AUC: 0.8196\n",
      "  Epoch: 48, Loss: 0.8155\n",
      " Val AP: 0.8723,  Val AUC: 0.8833\n",
      "Test AP: 0.8122, Test AUC: 0.8194\n",
      "  Epoch: 49, Loss: 0.8144\n",
      " Val AP: 0.8733,  Val AUC: 0.8844\n",
      "Test AP: 0.8126, Test AUC: 0.8197\n",
      "  Epoch: 50, Loss: 0.8138\n",
      " Val AP: 0.8721,  Val AUC: 0.8832\n",
      "Test AP: 0.8111, Test AUC: 0.8187\n"
     ]
    }
   ],
   "source": [
    "train_loss=[]\n",
    "val_acc=[]\n",
    "test_acc=[]\n",
    "for epoch in range(1, 51):\n",
    "    loss = train()\n",
    "    train_loss.append(loss)\n",
    "    print(f'  Epoch: {epoch:02d}, Loss: {loss:.4f}')\n",
    "    val_ap, val_auc = test(val_data)\n",
    "    val_acc.append(val_ap)\n",
    "    test_ap, test_auc = test(test_data)\n",
    "    test_acc.append(test_ap)\n",
    "    print(f' Val AP: {val_ap:.4f},  Val AUC: {val_auc:.4f}')\n",
    "    print(f'Test AP: {test_ap:.4f}, Test AUC: {test_auc:.4f}')"
   ]
  },
  {
   "cell_type": "code",
   "execution_count": 209,
   "metadata": {},
   "outputs": [
    {
     "data": {
      "text/plain": [
       "<matplotlib.legend.Legend at 0x16f8150c490>"
      ]
     },
     "execution_count": 209,
     "metadata": {},
     "output_type": "execute_result"
    },
    {
     "data": {
      "image/png": "[encoded data removed]",
      "text/plain": [
       "<Figure size 1080x576 with 1 Axes>"
      ]
     },
     "metadata": {
      "needs_background": "light"
     },
     "output_type": "display_data"
    }
   ],
   "source": [
    "fig, ax1= plt.subplots(1, 1)\n",
    "fig.set_figheight(8)\n",
    "fig.set_figwidth(15)\n",
    "fig.suptitle('TGN Performance for Link Prediction on MovieLens')\n",
    "#ax1.plot(range(1,51),train_l,label='Train')\n",
    "ax1.plot(range(1,51),val_acc,label='Val')\n",
    "ax1.plot(range(1,51),test_acc,label='Test')\n",
    "#ax1.title('Binary CrossEntropy Loss')\n",
    "ax1.set_title('Average Percision Score')\n",
    "ax1.set(xlabel='Iteration', ylabel='Precision Score')\n",
    "ax1.legend()"
   ]
  },
  {
   "cell_type": "markdown",
   "metadata": {},
   "source": [
    "# TGN Model with User Embedding"
   ]
  },
  {
   "cell_type": "code",
   "execution_count": 210,
   "metadata": {},
   "outputs": [],
   "source": [
    "import gensim"
   ]
  },
  {
   "cell_type": "code",
   "execution_count": 211,
   "metadata": {},
   "outputs": [],
   "source": [
    "embedding=gensim.models.KeyedVectors.load_word2vec_format(\"user_embedding\" )"
   ]
  },
  {
   "cell_type": "code",
   "execution_count": 212,
   "metadata": {},
   "outputs": [
    {
     "name": "stderr",
     "output_type": "stream",
     "text": [
      "<ipython-input-212-1669296d0a5b>:1: DeprecationWarning: Call to deprecated `wv` (Attribute will be removed in 4.0.0, use self instead).\n",
      "  embedding.wv.get_vector(\"609\")\n"
     ]
    },
    {
     "data": {
      "text/plain": [
       "array([-0.34327754,  0.36212552, -0.43212673,  0.17279245,  0.08869011,\n",
       "        0.2878424 ,  0.27922294, -0.30583826, -0.3049153 , -0.24846685,\n",
       "        0.04031695,  0.20252027, -0.13304816, -0.06249668,  0.01307217,\n",
       "        0.05222547,  0.02783793,  0.16320431,  0.56462115, -0.050511  ,\n",
       "       -0.11741551,  0.4152533 ,  0.06861125, -0.3542477 , -0.4676562 ,\n",
       "       -0.24786852, -0.30615926,  0.0759014 , -0.18590562,  0.06124813,\n",
       "        0.75938857,  0.07058468, -0.13088387, -0.0679763 , -0.1267884 ,\n",
       "       -0.1489471 ,  0.06141994,  0.10701381, -0.28843844,  0.04773182,\n",
       "       -0.50412905,  0.20686033,  0.3078362 ,  0.5258687 ,  0.08700343,\n",
       "       -0.42441037,  0.06882752, -0.00823671,  0.48207843, -0.04212575,\n",
       "       -0.17868616, -0.01071522,  0.10895823, -0.160279  , -0.33654654,\n",
       "       -0.49255645, -0.36931598, -0.04026617, -0.05940375,  0.1455885 ,\n",
       "       -0.55358607,  0.15635808,  0.23346955,  0.25734583, -0.24422628,\n",
       "        0.25261673,  0.2420021 ,  0.7532807 , -0.30962813, -0.5572501 ,\n",
       "        0.17809579, -0.9357371 , -0.4236255 ,  0.0859677 ,  0.03181297,\n",
       "        0.4088055 ,  0.09026422,  0.03283431,  0.23737283, -0.1791607 ,\n",
       "       -0.30479798, -0.16975726,  0.11749399,  0.3962745 , -0.03312899,\n",
       "       -0.04276504,  0.23657481, -0.09299252, -0.48767734,  0.3712804 ,\n",
       "       -0.07872252, -0.19524829,  0.10310391,  0.10684135, -0.3274441 ,\n",
       "        0.10087027,  0.12302813,  0.4076632 , -0.10895469,  0.33053732,\n",
       "       -0.08431   , -0.39273518,  0.34319913, -0.10894059, -0.09030203,\n",
       "        0.33594114,  0.44124177,  0.14469159,  0.03746874, -0.30433112,\n",
       "       -0.04511347,  0.17531541,  0.26988202, -0.32720748,  0.04877506,\n",
       "       -0.5572778 ,  0.18624859,  0.4062815 ,  0.12020199, -0.18898518,\n",
       "        0.16088685,  0.4486661 , -0.08321494, -0.0695907 , -0.0707036 ,\n",
       "        0.68567866, -0.08671441, -0.58845574], dtype=float32)"
      ]
     },
     "execution_count": 212,
     "metadata": {},
     "output_type": "execute_result"
    }
   ],
   "source": [
    "embedding.wv.get_vector(\"609\")"
   ]
  },
  {
   "cell_type": "code",
   "execution_count": 213,
   "metadata": {},
   "outputs": [
    {
     "name": "stderr",
     "output_type": "stream",
     "text": [
      "<ipython-input-213-22602633a22c>:1: DeprecationWarning: Call to deprecated `wv` (Attribute will be removed in 4.0.0, use self instead).\n",
      "  user_feat_no=embedding.wv.get_vector(\"0\").shape[0]\n",
      "<ipython-input-213-22602633a22c>:19: DeprecationWarning: Call to deprecated `wv` (Attribute will be removed in 4.0.0, use self instead).\n",
      "  msg[i,:]+=torch.cat((movie_x[movieID,:],torch.tensor(embedding.wv.get_vector(user_org_str))))\n"
     ]
    }
   ],
   "source": [
    "user_feat_no=embedding.wv.get_vector(\"0\").shape[0]\n",
    "edge_no=rating.shape[0]\n",
    "src=torch.zeros(edge_no,dtype=torch.int64)\n",
    "dst=torch.zeros(edge_no,dtype=torch.int64)\n",
    "t=torch.zeros(edge_no,dtype=torch.int64)\n",
    "msg=torch.zeros(edge_no,movie_x.shape[1]+user_feat_no,dtype=torch.float32)\n",
    "\n",
    "for i in range(len(rating)):\n",
    "    userId=uesr_mapping[rating.iloc[i,0]]\n",
    "    user_org_str=str(rating.iloc[i,0]-1)\n",
    "    src[i]=userId\n",
    "    \n",
    "    movieID=movie_mapping[rating.iloc[i,1]]\n",
    "    dst[i]=movieID\n",
    "    \n",
    "    time=rating.iloc[i,3]\n",
    "    t[i]=time\n",
    "    \n",
    "    msg[i,:]+=torch.cat((movie_x[movieID,:],torch.tensor(embedding.wv.get_vector(user_org_str))))"
   ]
  },
  {
   "cell_type": "code",
   "execution_count": 214,
   "metadata": {},
   "outputs": [],
   "source": [
    "from torch import Tensor\n",
    "from torch_geometric.data import TemporalData\n",
    "\n",
    "data = TemporalData(\n",
    "    src=src,\n",
    "    dst=dst,\n",
    "    t=t,\n",
    "    msg=msg)"
   ]
  },
  {
   "cell_type": "code",
   "execution_count": 215,
   "metadata": {},
   "outputs": [],
   "source": [
    "min_dst_idx, max_dst_idx = int(data.dst.min()), int(data.dst.max())"
   ]
  },
  {
   "cell_type": "code",
   "execution_count": 216,
   "metadata": {},
   "outputs": [],
   "source": [
    "train_data, val_data, test_data = data.train_val_test_split(\n",
    "    val_ratio=0.15, test_ratio=0.15)"
   ]
  },
  {
   "cell_type": "code",
   "execution_count": 217,
   "metadata": {},
   "outputs": [
    {
     "name": "stdout",
     "output_type": "stream",
     "text": [
      "#  of nodes: 10962\n"
     ]
    }
   ],
   "source": [
    "print(\"#  of nodes:\",data.num_nodes)"
   ]
  },
  {
   "cell_type": "code",
   "execution_count": 218,
   "metadata": {},
   "outputs": [],
   "source": [
    "neighbor_loader = LastNeighborLoader(data.num_nodes, size=10, device=device)"
   ]
  },
  {
   "cell_type": "code",
   "execution_count": 219,
   "metadata": {},
   "outputs": [],
   "source": [
    "class GraphAttentionEmbedding(torch.nn.Module):\n",
    "    def __init__(self, in_channels, out_channels, msg_dim, time_enc):\n",
    "        super().__init__()\n",
    "        self.time_enc = time_enc\n",
    "        edge_dim = msg_dim + time_enc.out_channels\n",
    "        self.conv = TransformerConv(in_channels, out_channels // 2, heads=2,\n",
    "                                    dropout=0.1, edge_dim=edge_dim)\n",
    "\n",
    "    def forward(self, x, last_update, edge_index, t, msg):\n",
    "        rel_t = last_update[edge_index[0]] - t\n",
    "        rel_t_enc = self.time_enc(rel_t.to(x.dtype))\n",
    "        edge_attr = torch.cat([rel_t_enc, msg], dim=-1)\n",
    "        return self.conv(x, edge_index, edge_attr)"
   ]
  },
  {
   "cell_type": "code",
   "execution_count": 220,
   "metadata": {},
   "outputs": [],
   "source": [
    "class LinkPredictor(torch.nn.Module):\n",
    "    def __init__(self, in_channels):\n",
    "        super().__init__()\n",
    "        self.lin_src = Linear(in_channels, in_channels)\n",
    "        self.lin_dst = Linear(in_channels, in_channels)\n",
    "        self.lin_final = Linear(in_channels, 1)\n",
    "\n",
    "    def forward(self, z_src, z_dst):\n",
    "        h = self.lin_src(z_src) + self.lin_dst(z_dst)\n",
    "        h = h.relu()\n",
    "        return self.lin_final(h)"
   ]
  },
  {
   "cell_type": "code",
   "execution_count": 221,
   "metadata": {},
   "outputs": [],
   "source": [
    "memory_dim = time_dim = embedding_dim = 100"
   ]
  },
  {
   "cell_type": "code",
   "execution_count": 222,
   "metadata": {},
   "outputs": [],
   "source": [
    "memory = TGNMemory(\n",
    "    data.num_nodes,\n",
    "    data.msg.size(-1),\n",
    "    memory_dim,\n",
    "    time_dim,\n",
    "    message_module=IdentityMessage(data.msg.size(-1), memory_dim, time_dim),\n",
    "    aggregator_module=LastAggregator(),\n",
    ").to(device)"
   ]
  },
  {
   "cell_type": "code",
   "execution_count": 223,
   "metadata": {},
   "outputs": [],
   "source": [
    "gnn = GraphAttentionEmbedding(\n",
    "    in_channels=memory_dim,\n",
    "    out_channels=embedding_dim,\n",
    "    msg_dim=data.msg.size(-1),\n",
    "    time_enc=memory.time_enc,\n",
    ").to(device)"
   ]
  },
  {
   "cell_type": "code",
   "execution_count": 224,
   "metadata": {},
   "outputs": [],
   "source": [
    "link_pred = LinkPredictor(in_channels=embedding_dim).to(device)"
   ]
  },
  {
   "cell_type": "code",
   "execution_count": 225,
   "metadata": {},
   "outputs": [],
   "source": [
    "optimizer = torch.optim.Adam(\n",
    "    set(memory.parameters()) | set(gnn.parameters())\n",
    "    | set(link_pred.parameters()), lr=0.0001)\n",
    "criterion = torch.nn.BCEWithLogitsLoss()"
   ]
  },
  {
   "cell_type": "code",
   "execution_count": 226,
   "metadata": {},
   "outputs": [],
   "source": [
    "# Helper vector to map global node indices to local ones.\n",
    "assoc = torch.empty(data.num_nodes, dtype=torch.long, device=device)\n"
   ]
  },
  {
   "cell_type": "code",
   "execution_count": 227,
   "metadata": {},
   "outputs": [],
   "source": [
    "def train():\n",
    "    memory.train()\n",
    "    gnn.train()\n",
    "    link_pred.train()\n",
    "\n",
    "    memory.reset_state()  # Start with a fresh memory.\n",
    "    neighbor_loader.reset_state()  # Start with an empty graph.\n",
    "\n",
    "    total_loss = 0\n",
    "    for batch in train_data.seq_batches(batch_size=200):\n",
    "        optimizer.zero_grad()\n",
    "\n",
    "        src, pos_dst, t, msg = batch.src, batch.dst, batch.t, batch.msg\n",
    "\n",
    "        # Sample negative destination nodes.\n",
    "        neg_dst = torch.randint(min_dst_idx, max_dst_idx + 1, (src.size(0), ),\n",
    "                                dtype=torch.long, device=device)\n",
    "\n",
    "        n_id = torch.cat([src, pos_dst, neg_dst]).unique()\n",
    "        n_id, edge_index, e_id = neighbor_loader(n_id)\n",
    "        assoc[n_id] = torch.arange(n_id.size(0), device=device)\n",
    "\n",
    "        # Get updated memory of all nodes involved in the computation.\n",
    "        z, last_update = memory(n_id)\n",
    "        z = gnn(z, last_update, edge_index, data.t[e_id], data.msg[e_id])\n",
    "\n",
    "        pos_out = link_pred(z[assoc[src]], z[assoc[pos_dst]])\n",
    "        neg_out = link_pred(z[assoc[src]], z[assoc[neg_dst]])\n",
    "\n",
    "        loss = criterion(pos_out, torch.ones_like(pos_out))\n",
    "        loss += criterion(neg_out, torch.zeros_like(neg_out))\n",
    "\n",
    "        # Update memory and neighbor loader with ground-truth state.\n",
    "        memory.update_state(src, pos_dst, t, msg)\n",
    "        neighbor_loader.insert(src, pos_dst)\n",
    "\n",
    "        loss.backward()\n",
    "        optimizer.step()\n",
    "        memory.detach()\n",
    "        total_loss += float(loss) * batch.num_events\n",
    "\n",
    "    return total_loss / train_data.num_events"
   ]
  },
  {
   "cell_type": "code",
   "execution_count": 228,
   "metadata": {},
   "outputs": [],
   "source": [
    "@torch.no_grad()\n",
    "def test(inference_data):\n",
    "    memory.eval()\n",
    "    gnn.eval()\n",
    "    link_pred.eval()\n",
    "\n",
    "    torch.manual_seed(12345)  # Ensure deterministic sampling across epochs.\n",
    "\n",
    "    aps, aucs = [], []\n",
    "    for batch in inference_data.seq_batches(batch_size=200):\n",
    "        src, pos_dst, t, msg = batch.src, batch.dst, batch.t, batch.msg\n",
    "\n",
    "        neg_dst = torch.randint(min_dst_idx, max_dst_idx + 1, (src.size(0), ),\n",
    "                                dtype=torch.long, device=device)\n",
    "\n",
    "        n_id = torch.cat([src, pos_dst, neg_dst]).unique()\n",
    "        n_id, edge_index, e_id = neighbor_loader(n_id)\n",
    "        assoc[n_id] = torch.arange(n_id.size(0), device=device)\n",
    "\n",
    "        z, last_update = memory(n_id)\n",
    "        z = gnn(z, last_update, edge_index, data.t[e_id], data.msg[e_id])\n",
    "\n",
    "        pos_out = link_pred(z[assoc[src]], z[assoc[pos_dst]])\n",
    "        neg_out = link_pred(z[assoc[src]], z[assoc[neg_dst]])\n",
    "\n",
    "        y_pred = torch.cat([pos_out, neg_out], dim=0).sigmoid().cpu()\n",
    "        y_true = torch.cat(\n",
    "            [torch.ones(pos_out.size(0)),\n",
    "             torch.zeros(neg_out.size(0))], dim=0)\n",
    "\n",
    "        aps.append(average_precision_score(y_true, y_pred))\n",
    "        aucs.append(roc_auc_score(y_true, y_pred))\n",
    "\n",
    "        memory.update_state(src, pos_dst, t, msg)\n",
    "        neighbor_loader.insert(src, pos_dst)\n",
    "\n",
    "    return float(torch.tensor(aps).mean()), float(torch.tensor(aucs).mean())"
   ]
  },
  {
   "cell_type": "code",
   "execution_count": 229,
   "metadata": {},
   "outputs": [
    {
     "name": "stdout",
     "output_type": "stream",
     "text": [
      "  Epoch: 01, Loss: 1.1050\n",
      " Val AP: 0.8425,  Val AUC: 0.8513\n",
      "Test AP: 0.7945, Test AUC: 0.7998\n",
      "  Epoch: 02, Loss: 0.9514\n",
      " Val AP: 0.8553,  Val AUC: 0.8656\n",
      "Test AP: 0.8036, Test AUC: 0.8068\n",
      "  Epoch: 03, Loss: 0.9066\n",
      " Val AP: 0.8629,  Val AUC: 0.8717\n",
      "Test AP: 0.8073, Test AUC: 0.8091\n",
      "  Epoch: 04, Loss: 0.8950\n",
      " Val AP: 0.8681,  Val AUC: 0.8759\n",
      "Test AP: 0.8094, Test AUC: 0.8123\n",
      "  Epoch: 05, Loss: 0.8864\n",
      " Val AP: 0.8690,  Val AUC: 0.8772\n",
      "Test AP: 0.8103, Test AUC: 0.8120\n",
      "  Epoch: 06, Loss: 0.8796\n",
      " Val AP: 0.8701,  Val AUC: 0.8788\n",
      "Test AP: 0.8104, Test AUC: 0.8130\n",
      "  Epoch: 07, Loss: 0.8728\n",
      " Val AP: 0.8716,  Val AUC: 0.8799\n",
      "Test AP: 0.8121, Test AUC: 0.8151\n",
      "  Epoch: 08, Loss: 0.8671\n",
      " Val AP: 0.8732,  Val AUC: 0.8818\n",
      "Test AP: 0.8118, Test AUC: 0.8154\n",
      "  Epoch: 09, Loss: 0.8625\n",
      " Val AP: 0.8727,  Val AUC: 0.8819\n",
      "Test AP: 0.8129, Test AUC: 0.8174\n",
      "  Epoch: 10, Loss: 0.8577\n",
      " Val AP: 0.8738,  Val AUC: 0.8828\n",
      "Test AP: 0.8139, Test AUC: 0.8187\n",
      "  Epoch: 11, Loss: 0.8542\n",
      " Val AP: 0.8745,  Val AUC: 0.8834\n",
      "Test AP: 0.8130, Test AUC: 0.8188\n",
      "  Epoch: 12, Loss: 0.8511\n",
      " Val AP: 0.8734,  Val AUC: 0.8830\n",
      "Test AP: 0.8123, Test AUC: 0.8179\n",
      "  Epoch: 13, Loss: 0.8456\n",
      " Val AP: 0.8743,  Val AUC: 0.8841\n",
      "Test AP: 0.8128, Test AUC: 0.8186\n",
      "  Epoch: 14, Loss: 0.8433\n",
      " Val AP: 0.8745,  Val AUC: 0.8840\n",
      "Test AP: 0.8153, Test AUC: 0.8207\n",
      "  Epoch: 15, Loss: 0.8399\n",
      " Val AP: 0.8743,  Val AUC: 0.8842\n",
      "Test AP: 0.8144, Test AUC: 0.8204\n",
      "  Epoch: 16, Loss: 0.8376\n",
      " Val AP: 0.8749,  Val AUC: 0.8848\n",
      "Test AP: 0.8153, Test AUC: 0.8212\n",
      "  Epoch: 17, Loss: 0.8352\n",
      " Val AP: 0.8747,  Val AUC: 0.8848\n",
      "Test AP: 0.8163, Test AUC: 0.8215\n",
      "  Epoch: 18, Loss: 0.8322\n",
      " Val AP: 0.8757,  Val AUC: 0.8851\n",
      "Test AP: 0.8159, Test AUC: 0.8216\n",
      "  Epoch: 19, Loss: 0.8298\n",
      " Val AP: 0.8742,  Val AUC: 0.8845\n",
      "Test AP: 0.8176, Test AUC: 0.8230\n",
      "  Epoch: 20, Loss: 0.8280\n",
      " Val AP: 0.8750,  Val AUC: 0.8847\n",
      "Test AP: 0.8162, Test AUC: 0.8220\n",
      "  Epoch: 21, Loss: 0.8253\n",
      " Val AP: 0.8748,  Val AUC: 0.8852\n",
      "Test AP: 0.8160, Test AUC: 0.8225\n",
      "  Epoch: 22, Loss: 0.8239\n",
      " Val AP: 0.8743,  Val AUC: 0.8848\n",
      "Test AP: 0.8178, Test AUC: 0.8244\n",
      "  Epoch: 23, Loss: 0.8206\n",
      " Val AP: 0.8748,  Val AUC: 0.8855\n",
      "Test AP: 0.8190, Test AUC: 0.8246\n",
      "  Epoch: 24, Loss: 0.8201\n",
      " Val AP: 0.8745,  Val AUC: 0.8851\n",
      "Test AP: 0.8179, Test AUC: 0.8243\n",
      "  Epoch: 25, Loss: 0.8175\n",
      " Val AP: 0.8747,  Val AUC: 0.8854\n",
      "Test AP: 0.8193, Test AUC: 0.8260\n",
      "  Epoch: 26, Loss: 0.8152\n",
      " Val AP: 0.8750,  Val AUC: 0.8861\n",
      "Test AP: 0.8170, Test AUC: 0.8239\n",
      "  Epoch: 27, Loss: 0.8143\n",
      " Val AP: 0.8746,  Val AUC: 0.8853\n",
      "Test AP: 0.8188, Test AUC: 0.8249\n",
      "  Epoch: 28, Loss: 0.8119\n",
      " Val AP: 0.8753,  Val AUC: 0.8861\n",
      "Test AP: 0.8174, Test AUC: 0.8243\n",
      "  Epoch: 29, Loss: 0.8090\n",
      " Val AP: 0.8750,  Val AUC: 0.8858\n",
      "Test AP: 0.8171, Test AUC: 0.8245\n",
      "  Epoch: 30, Loss: 0.8068\n",
      " Val AP: 0.8741,  Val AUC: 0.8856\n",
      "Test AP: 0.8183, Test AUC: 0.8258\n",
      "  Epoch: 31, Loss: 0.8059\n",
      " Val AP: 0.8747,  Val AUC: 0.8856\n",
      "Test AP: 0.8184, Test AUC: 0.8272\n",
      "  Epoch: 32, Loss: 0.8044\n",
      " Val AP: 0.8748,  Val AUC: 0.8866\n",
      "Test AP: 0.8188, Test AUC: 0.8263\n",
      "  Epoch: 33, Loss: 0.8017\n",
      " Val AP: 0.8737,  Val AUC: 0.8860\n",
      "Test AP: 0.8190, Test AUC: 0.8274\n",
      "  Epoch: 34, Loss: 0.8005\n",
      " Val AP: 0.8747,  Val AUC: 0.8863\n",
      "Test AP: 0.8201, Test AUC: 0.8268\n",
      "  Epoch: 35, Loss: 0.7992\n",
      " Val AP: 0.8735,  Val AUC: 0.8850\n",
      "Test AP: 0.8187, Test AUC: 0.8271\n",
      "  Epoch: 36, Loss: 0.7970\n",
      " Val AP: 0.8734,  Val AUC: 0.8858\n",
      "Test AP: 0.8181, Test AUC: 0.8269\n",
      "  Epoch: 37, Loss: 0.7949\n",
      " Val AP: 0.8738,  Val AUC: 0.8855\n",
      "Test AP: 0.8184, Test AUC: 0.8272\n",
      "  Epoch: 38, Loss: 0.7932\n",
      " Val AP: 0.8736,  Val AUC: 0.8857\n",
      "Test AP: 0.8179, Test AUC: 0.8266\n",
      "  Epoch: 39, Loss: 0.7917\n",
      " Val AP: 0.8728,  Val AUC: 0.8848\n",
      "Test AP: 0.8184, Test AUC: 0.8268\n",
      "  Epoch: 40, Loss: 0.7903\n",
      " Val AP: 0.8739,  Val AUC: 0.8861\n",
      "Test AP: 0.8175, Test AUC: 0.8274\n",
      "  Epoch: 41, Loss: 0.7887\n",
      " Val AP: 0.8715,  Val AUC: 0.8849\n",
      "Test AP: 0.8183, Test AUC: 0.8278\n",
      "  Epoch: 42, Loss: 0.7864\n",
      " Val AP: 0.8745,  Val AUC: 0.8868\n",
      "Test AP: 0.8195, Test AUC: 0.8283\n",
      "  Epoch: 43, Loss: 0.7851\n",
      " Val AP: 0.8744,  Val AUC: 0.8866\n",
      "Test AP: 0.8181, Test AUC: 0.8277\n",
      "  Epoch: 44, Loss: 0.7824\n",
      " Val AP: 0.8728,  Val AUC: 0.8855\n",
      "Test AP: 0.8186, Test AUC: 0.8285\n",
      "  Epoch: 45, Loss: 0.7827\n",
      " Val AP: 0.8752,  Val AUC: 0.8868\n",
      "Test AP: 0.8186, Test AUC: 0.8288\n",
      "  Epoch: 46, Loss: 0.7804\n",
      " Val AP: 0.8752,  Val AUC: 0.8863\n",
      "Test AP: 0.8195, Test AUC: 0.8287\n",
      "  Epoch: 47, Loss: 0.7778\n",
      " Val AP: 0.8725,  Val AUC: 0.8855\n",
      "Test AP: 0.8189, Test AUC: 0.8280\n",
      "  Epoch: 48, Loss: 0.7773\n",
      " Val AP: 0.8750,  Val AUC: 0.8872\n",
      "Test AP: 0.8181, Test AUC: 0.8281\n",
      "  Epoch: 49, Loss: 0.7758\n",
      " Val AP: 0.8729,  Val AUC: 0.8860\n",
      "Test AP: 0.8174, Test AUC: 0.8279\n",
      "  Epoch: 50, Loss: 0.7736\n",
      " Val AP: 0.8732,  Val AUC: 0.8857\n",
      "Test AP: 0.8187, Test AUC: 0.8277\n"
     ]
    }
   ],
   "source": [
    "train_loss=[]\n",
    "val_acc=[]\n",
    "test_acc=[]\n",
    "for epoch in range(1, 51):\n",
    "    loss = train()\n",
    "    train_loss.append(loss)\n",
    "    print(f'  Epoch: {epoch:02d}, Loss: {loss:.4f}')\n",
    "    val_ap, val_auc = test(val_data)\n",
    "    val_acc.append(val_ap)\n",
    "    test_ap, test_auc = test(test_data)\n",
    "    test_acc.append(test_ap)\n",
    "    print(f' Val AP: {val_ap:.4f},  Val AUC: {val_auc:.4f}')\n",
    "    print(f'Test AP: {test_ap:.4f}, Test AUC: {test_auc:.4f}')"
   ]
  },
  {
   "cell_type": "code",
   "execution_count": 230,
   "metadata": {},
   "outputs": [
    {
     "data": {
      "text/plain": [
       "<matplotlib.legend.Legend at 0x16f810f26a0>"
      ]
     },
     "execution_count": 230,
     "metadata": {},
     "output_type": "execute_result"
    },
    {
     "data": {
      "image/png": "[encoded data removed]",
      "text/plain": [
       "<Figure size 1080x576 with 1 Axes>"
      ]
     },
     "metadata": {
      "needs_background": "light"
     },
     "output_type": "display_data"
    }
   ],
   "source": [
    "fig, ax1 = plt.subplots(1, 1)\n",
    "fig.set_figheight(8)\n",
    "fig.set_figwidth(15)\n",
    "fig.suptitle('TGN Performance for Link Prediction on MovieLens with user node embedding')\n",
    "#ax1.plot(range(1,51),train_l,label='Train')\n",
    "ax1.plot(range(1,51),val_acc,label='Val')\n",
    "ax1.plot(range(1,51),test_acc,label='Test')\n",
    "#ax1.title('Binary CrossEntropy Loss')\n",
    "ax1.set_title('Average Percision Score')\n",
    "ax1.set(xlabel='Iteration', ylabel='BCE Loss')\n",
    "ax1.legend()"
   ]
  },
  {
   "cell_type": "code",
   "execution_count": 231,
   "metadata": {},
   "outputs": [
    {
     "data": {
      "text/plain": [
       "TemporalData(dst=[87313], msg=[87313, 532], src=[87313], t=[87313])"
      ]
     },
     "execution_count": 231,
     "metadata": {},
     "output_type": "execute_result"
    }
   ],
   "source": [
    "data"
   ]
  },
  {
   "cell_type": "code",
   "execution_count": null,
   "metadata": {},
   "outputs": [],
   "source": []
  }
 ],
 "metadata": {
  "kernelspec": {
   "display_name": "Python 3",
   "language": "python",
   "name": "python3"
  },
  "language_info": {
   "codemirror_mode": {
    "name": "ipython",
    "version": 3
   },
   "file_extension": ".py",
   "mimetype": "text/x-python",
   "name": "python",
   "nbconvert_exporter": "python",
   "pygments_lexer": "ipython3",
   "version": "3.8.3"
  }
 },
 "nbformat": 4,
 "nbformat_minor": 4
}
