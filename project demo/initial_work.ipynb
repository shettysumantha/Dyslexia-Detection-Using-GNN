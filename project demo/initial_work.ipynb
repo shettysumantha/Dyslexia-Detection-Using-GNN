{
 "cells": [
  {
   "cell_type": "code",
   "execution_count": 6,
   "id": "102ecd7b",
   "metadata": {},
   "outputs": [],
   "source": [
    "import os\n",
    "import pandas as pd"
   ]
  },
  {
   "cell_type": "code",
   "execution_count": 7,
   "id": "bb9ef54c",
   "metadata": {},
   "outputs": [],
   "source": [
    "data_folder_path ='Recording Data'"
   ]
  },
  {
   "cell_type": "code",
   "execution_count": 8,
   "id": "b6e16834",
   "metadata": {},
   "outputs": [],
   "source": [
    "#an initialized empty list to hold data from all files\n",
    "all_data =[]"
   ]
  },
  {
   "cell_type": "code",
   "execution_count": 10,
   "id": "c2b2ec56",
   "metadata": {},
   "outputs": [
    {
     "ename": "PermissionError",
     "evalue": "[Errno 13] Permission denied: 'Recording Data\\\\112KA1\\\\.ipynb_checkpoints'",
     "output_type": "error",
     "traceback": [
      "\u001b[1;31m---------------------------------------------------------------------------\u001b[0m",
      "\u001b[1;31mPermissionError\u001b[0m                           Traceback (most recent call last)",
      "Cell \u001b[1;32mIn[10], line 26\u001b[0m\n\u001b[0;32m     23\u001b[0m file_path \u001b[38;5;241m=\u001b[39m os\u001b[38;5;241m.\u001b[39mpath\u001b[38;5;241m.\u001b[39mjoin(item_path, file_name)\n\u001b[0;32m     25\u001b[0m \u001b[38;5;66;03m# Read the data file (assuming a simple text format, adjust read function as necessary)\u001b[39;00m\n\u001b[1;32m---> 26\u001b[0m \u001b[38;5;28;01mwith\u001b[39;00m \u001b[38;5;28;43mopen\u001b[39;49m\u001b[43m(\u001b[49m\u001b[43mfile_path\u001b[49m\u001b[43m,\u001b[49m\u001b[43m \u001b[49m\u001b[38;5;124;43m'\u001b[39;49m\u001b[38;5;124;43mr\u001b[39;49m\u001b[38;5;124;43m'\u001b[39;49m\u001b[43m)\u001b[49m \u001b[38;5;28;01mas\u001b[39;00m file:\n\u001b[0;32m     27\u001b[0m     data \u001b[38;5;241m=\u001b[39m file\u001b[38;5;241m.\u001b[39mread()  \u001b[38;5;66;03m# This will be a string, you may need to parse it further depending on your data format\u001b[39;00m\n\u001b[0;32m     29\u001b[0m \u001b[38;5;66;03m# Append a tuple with the data and metadata to the all_data list\u001b[39;00m\n\u001b[0;32m     30\u001b[0m \u001b[38;5;66;03m# You might want to parse 'data' into a more structured form depending on your needs\u001b[39;00m\n",
      "File \u001b[1;32mc:\\users\\sumantha\\appdata\\local\\programs\\python\\python38\\lib\\site-packages\\IPython\\core\\interactiveshell.py:284\u001b[0m, in \u001b[0;36m_modified_open\u001b[1;34m(file, *args, **kwargs)\u001b[0m\n\u001b[0;32m    277\u001b[0m \u001b[38;5;28;01mif\u001b[39;00m file \u001b[38;5;129;01min\u001b[39;00m {\u001b[38;5;241m0\u001b[39m, \u001b[38;5;241m1\u001b[39m, \u001b[38;5;241m2\u001b[39m}:\n\u001b[0;32m    278\u001b[0m     \u001b[38;5;28;01mraise\u001b[39;00m \u001b[38;5;167;01mValueError\u001b[39;00m(\n\u001b[0;32m    279\u001b[0m         \u001b[38;5;124mf\u001b[39m\u001b[38;5;124m\"\u001b[39m\u001b[38;5;124mIPython won\u001b[39m\u001b[38;5;124m'\u001b[39m\u001b[38;5;124mt let you open fd=\u001b[39m\u001b[38;5;132;01m{\u001b[39;00mfile\u001b[38;5;132;01m}\u001b[39;00m\u001b[38;5;124m by default \u001b[39m\u001b[38;5;124m\"\u001b[39m\n\u001b[0;32m    280\u001b[0m         \u001b[38;5;124m\"\u001b[39m\u001b[38;5;124mas it is likely to crash IPython. If you know what you are doing, \u001b[39m\u001b[38;5;124m\"\u001b[39m\n\u001b[0;32m    281\u001b[0m         \u001b[38;5;124m\"\u001b[39m\u001b[38;5;124myou can use builtins\u001b[39m\u001b[38;5;124m'\u001b[39m\u001b[38;5;124m open.\u001b[39m\u001b[38;5;124m\"\u001b[39m\n\u001b[0;32m    282\u001b[0m     )\n\u001b[1;32m--> 284\u001b[0m \u001b[38;5;28;01mreturn\u001b[39;00m \u001b[43mio_open\u001b[49m\u001b[43m(\u001b[49m\u001b[43mfile\u001b[49m\u001b[43m,\u001b[49m\u001b[43m \u001b[49m\u001b[38;5;241;43m*\u001b[39;49m\u001b[43margs\u001b[49m\u001b[43m,\u001b[49m\u001b[43m \u001b[49m\u001b[38;5;241;43m*\u001b[39;49m\u001b[38;5;241;43m*\u001b[39;49m\u001b[43mkwargs\u001b[49m\u001b[43m)\u001b[49m\n",
      "\u001b[1;31mPermissionError\u001b[0m: [Errno 13] Permission denied: 'Recording Data\\\\112KA1\\\\.ipynb_checkpoints'"
     ]
    }
   ],
   "source": [
    "#looping through each folder in the directory\n",
    "for folder_name in os.listdir(data_folder_path):\n",
    "    if not folder_name.startswith('.'):#this would ignore hidden/system folders\n",
    "        folder_path=os.path.join(data_folder_path,folder_name)\n",
    "        \n",
    "        #determining attributes from folder name\n",
    "        reading_disabled = folder_name[-1] in ['1','2']#Ends with 1 or 2\n",
    "        gender='male'if folder_name[-1]in ['1','3'] else 'female' #Ends with 1 or 3 for male or 2 or 4 for female\n",
    "         \n",
    "            \n",
    "          # Loop through each item in the directory\n",
    "for item in os.listdir(data_folder_path):\n",
    "    item_path = os.path.join(data_folder_path, item)\n",
    "    \n",
    "    # Check if the item is a directory\n",
    "    if os.path.isdir(item_path):\n",
    "        # Determine attributes from folder name\n",
    "        reading_disabled = item[-1] in ['1', '2']  # Ends with 1 or 2\n",
    "        gender = 'male' if item[-1] in ['1', '3'] else 'female'  # Ends with 1 or 3 for male, 2 or 4 for female\n",
    "        \n",
    "        # Loop through each file in the directory\n",
    "        for file_name in os.listdir(item_path):\n",
    "            file_path = os.path.join(item_path, file_name)\n",
    "            \n",
    "            # Read the data file (assuming a simple text format, adjust read function as necessary)\n",
    "            with open(file_path, 'r') as file:\n",
    "                data = file.read()  # This will be a string, you may need to parse it further depending on your data format\n",
    "            \n",
    "            # Append a tuple with the data and metadata to the all_data list\n",
    "            # You might want to parse 'data' into a more structured form depending on your needs\n",
    "            all_data.append((item, gender, reading_disabled, data))\n",
    "\n",
    "# Convert the list of tuples into a DataFrame\n",
    "df = pd.DataFrame(all_data, columns=['Folder Name', 'Gender', 'Reading Disabled', 'Data'])\n",
    "\n"
   ]
  },
  {
   "cell_type": "code",
   "execution_count": 5,
   "id": "18365dfc",
   "metadata": {},
   "outputs": [
    {
     "ename": "NameError",
     "evalue": "name 'df' is not defined",
     "output_type": "error",
     "traceback": [
      "\u001b[1;31m---------------------------------------------------------------------------\u001b[0m",
      "\u001b[1;31mNameError\u001b[0m                                 Traceback (most recent call last)",
      "Cell \u001b[1;32mIn[5], line 1\u001b[0m\n\u001b[1;32m----> 1\u001b[0m \u001b[43mdf\u001b[49m\n",
      "\u001b[1;31mNameError\u001b[0m: name 'df' is not defined"
     ]
    }
   ],
   "source": [
    "df"
   ]
  },
  {
   "cell_type": "code",
   "execution_count": 19,
   "id": "2d2a8dd8",
   "metadata": {},
   "outputs": [
    {
     "data": {
      "text/plain": [
       "(370, 4)"
      ]
     },
     "execution_count": 19,
     "metadata": {},
     "output_type": "execute_result"
    }
   ],
   "source": [
    "df.shape"
   ]
  },
  {
   "cell_type": "code",
   "execution_count": null,
   "id": "ad580947",
   "metadata": {},
   "outputs": [],
   "source": []
  }
 ],
 "metadata": {
  "kernelspec": {
   "display_name": "Python 3 (ipykernel)",
   "language": "python",
   "name": "python3"
  },
  "language_info": {
   "codemirror_mode": {
    "name": "ipython",
    "version": 3
   },
   "file_extension": ".py",
   "mimetype": "text/x-python",
   "name": "python",
   "nbconvert_exporter": "python",
   "pygments_lexer": "ipython3",
   "version": "3.8.5"
  }
 },
 "nbformat": 4,
 "nbformat_minor": 5
}
